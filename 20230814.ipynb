{
 "cells": [
  {
   "cell_type": "code",
   "execution_count": 50,
   "id": "b804ace3-fefb-4031-8163-4157266d2cce",
   "metadata": {},
   "outputs": [
    {
     "name": "stdout",
     "output_type": "stream",
     "text": [
      "<class 'pandas.core.frame.DataFrame'>\n",
      "Index: 351 entries, 30 to 2491\n",
      "Data columns (total 8 columns):\n",
      " #   Column           Non-Null Count  Dtype \n",
      "---  ------           --------------  ----- \n",
      " 0   sellAmountUsd    351 non-null    object\n",
      " 1   sellAssetId      351 non-null    object\n",
      " 2   buyAssetId       351 non-null    object\n",
      " 3   quoteMeta        351 non-null    object\n",
      " 4   version          351 non-null    object\n",
      " 5   distinct_id      351 non-null    object\n",
      " 6   sellAssetPrefix  351 non-null    object\n",
      " 7   buyAssetPrefix   351 non-null    object\n",
      "dtypes: object(8)\n",
      "memory usage: 24.7+ KB\n"
     ]
    }
   ],
   "source": [
    "import numpy as np\n",
    "import json\n",
    "import pandas as pd\n",
    "import matplotlib.pyplot as plt\n",
    "\n",
    "# Ingest data and cleanup \n",
    "properties_data = []\n",
    "\n",
    "## Read the file line by line\n",
    "with open('MixPanel_export-1691969806891.txt', 'r') as f:\n",
    "    for line in f:\n",
    "        # Load the JSON data from each line\n",
    "        json_line = json.loads(line)\n",
    "        # Add the JSON data to the list\n",
    "        properties_data.append(json_line)\n",
    "\n",
    "df = pd.json_normalize(properties_data)\n",
    "\n",
    "## Select the required columns\n",
    "df = df[['properties.sellAmountUsd', 'properties.sellAssetId', 'properties.buyAssetId', 'properties.quoteMeta', 'properties.version', 'properties.distinct_id']]\n",
    "\n",
    "## Cleanup the nested headers\n",
    "df = df.rename(columns=lambda x: x.replace('properties.', ''))\n",
    "\n",
    "## Use the latest data schema and bug fixes\n",
    "df = df.query('version == \"20230823\"')\n",
    "\n",
    "## Filter duplicate quotes with the same input args from the same user (i.e. polling qoute updates)\n",
    "columns_to_check = ['sellAmountUsd', 'sellAssetId', 'buyAssetId', 'distinct_id']\n",
    "df = df.drop_duplicates(subset=columns_to_check, keep='first')\n",
    "\n",
    "## Handle current inputOutputRatio = 0, which returns a differenceFromBestQuoteDecimalPercentage of \"1\", by removing these qoutes (usually happens when the sell amount is too low).\n",
    "df['quoteMeta'] = df['quoteMeta'].apply(lambda x: [item for item in x if item['differenceFromBestQuoteDecimalPercentage'] != \"1\"])\n",
    "\n",
    "## Create a new DataFrame containing only EVM trades, with filtered rows where sellAssetId and buyAssetId start with eip155\n",
    "df_evm = df.loc[(df['sellAssetId'].str.startswith('eip155')) & (df['buyAssetId'].str.startswith('eip155'))].copy()\n",
    "\n",
    "\n",
    "## Extract prefix before \":\" and compare for sellAssetId and buyAssetId in the new DataFrame\n",
    "df_evm.loc[:, 'sellAssetPrefix'] = df_evm['sellAssetId'].str.split('/').str[0]\n",
    "df_evm.loc[:, 'buyAssetPrefix'] = df_evm['buyAssetId'].str.split('/').str[0]\n",
    "\n",
    "df_evm_same_chain = df_evm[df_evm['sellAssetPrefix'] == df_evm['buyAssetPrefix']]\n",
    "\n",
    "\n",
    "## Log the DF schema as a sanity check\n",
    "df_evm_same_chain.info()"
   ]
  },
  {
   "cell_type": "code",
   "execution_count": 51,
   "id": "b579da36-a899-4ff3-b0af-f76e5e58fab3",
   "metadata": {},
   "outputs": [
    {
     "name": "stdout",
     "output_type": "stream",
     "text": [
      "{\n",
      "    \"sellAmountUsd\": \"184786\",\n",
      "    \"sellAssetId\": \"eip155:1/slip44:60\",\n",
      "    \"buyAssetId\": \"eip155:1/erc20:0xc770eefad204b5180df6a14ee197d99d808ee52d\",\n",
      "    \"quoteMeta\": [\n",
      "        {\n",
      "            \"differenceFromBestQuoteDecimalPercentage\": 0,\n",
      "            \"quoteReceived\": true,\n",
      "            \"swapperName\": \"0x\"\n",
      "        },\n",
      "        {\n",
      "            \"differenceFromBestQuoteDecimalPercentage\": 0.005013372032184327,\n",
      "            \"quoteReceived\": true,\n",
      "            \"swapperName\": \"LI.FI\"\n",
      "        },\n",
      "        {\n",
      "            \"differenceFromBestQuoteDecimalPercentage\": 0.6444536762200204,\n",
      "            \"quoteReceived\": true,\n",
      "            \"swapperName\": \"THORChain\"\n",
      "        },\n",
      "        {\n",
      "            \"differenceFromBestQuoteDecimalPercentage\": null,\n",
      "            \"quoteReceived\": false,\n",
      "            \"swapperName\": \"1INCH\"\n",
      "        },\n",
      "        {\n",
      "            \"differenceFromBestQuoteDecimalPercentage\": null,\n",
      "            \"quoteReceived\": false,\n",
      "            \"swapperName\": \"CoW Swap\"\n",
      "        },\n",
      "        {\n",
      "            \"differenceFromBestQuoteDecimalPercentage\": null,\n",
      "            \"quoteReceived\": false,\n",
      "            \"swapperName\": \"Osmosis\"\n",
      "        }\n",
      "    ],\n",
      "    \"version\": \"20230823\",\n",
      "    \"distinct_id\": \"189ed766d7a13da-01319ad6cf7d71-1b525634-13c680-189ed766d7b1f32\",\n",
      "    \"sellAssetPrefix\": \"eip155:1\",\n",
      "    \"buyAssetPrefix\": \"eip155:1\"\n",
      "}\n"
     ]
    }
   ],
   "source": [
    "# Log a row for reference\n",
    "\n",
    "# Get a row of the DataFrame as a dict\n",
    "first_row_dict = df_evm_same_chain.iloc[30].to_dict()\n",
    "\n",
    "# Convert the dict to a formatted JSON string\n",
    "formatted_json = json.dumps(first_row_dict, indent=4)\n",
    "\n",
    "# Print the formatted JSON\n",
    "print(formatted_json)"
   ]
  },
  {
   "cell_type": "code",
   "execution_count": 53,
   "id": "30231d88-e947-47af-915e-8860fedfabde",
   "metadata": {},
   "outputs": [
    {
     "ename": "NameError",
     "evalue": "name 'percentage_best_by_swapper_sorted' is not defined",
     "output_type": "error",
     "traceback": [
      "\u001b[0;31m---------------------------------------------------------------------------\u001b[0m",
      "\u001b[0;31mNameError\u001b[0m                                 Traceback (most recent call last)",
      "Cell \u001b[0;32mIn[53], line 22\u001b[0m\n\u001b[1;32m     19\u001b[0m output_swappers\n\u001b[1;32m     21\u001b[0m \u001b[38;5;66;03m# Create a DataFrame from the sorted percentages\u001b[39;00m\n\u001b[0;32m---> 22\u001b[0m swapper_table \u001b[38;5;241m=\u001b[39m pd\u001b[38;5;241m.\u001b[39mDataFrame(\u001b[43mpercentage_best_by_swapper_sorted\u001b[49m, columns\u001b[38;5;241m=\u001b[39m[\u001b[38;5;124m'\u001b[39m\u001b[38;5;124mPercentage\u001b[39m\u001b[38;5;124m'\u001b[39m])\n\u001b[1;32m     23\u001b[0m swapper_table[\u001b[38;5;124m'\u001b[39m\u001b[38;5;124mPercentage\u001b[39m\u001b[38;5;124m'\u001b[39m] \u001b[38;5;241m=\u001b[39m swapper_table[\u001b[38;5;124m'\u001b[39m\u001b[38;5;124mPercentage\u001b[39m\u001b[38;5;124m'\u001b[39m]\u001b[38;5;241m.\u001b[39mapply(\u001b[38;5;28;01mlambda\u001b[39;00m x: \u001b[38;5;124mf\u001b[39m\u001b[38;5;124m\"\u001b[39m\u001b[38;5;132;01m{\u001b[39;00mx\u001b[38;5;132;01m:\u001b[39;00m\u001b[38;5;124m.2f\u001b[39m\u001b[38;5;132;01m}\u001b[39;00m\u001b[38;5;124m%\u001b[39m\u001b[38;5;124m\"\u001b[39m)\n\u001b[1;32m     25\u001b[0m \u001b[38;5;66;03m# Optionally print to console\u001b[39;00m\n",
      "\u001b[0;31mNameError\u001b[0m: name 'percentage_best_by_swapper_sorted' is not defined"
     ]
    }
   ],
   "source": [
    "# When we got a quote via 0x, and another swapper gave us a quote - what % of the time was 0x the best (for EVM, non-bridging quotes)?\n",
    "\n",
    "## Determine the indices where there is at least one other swapper's quote received\n",
    "indices_with_other_swappers = df_evm_same_chain[df_evm_same_chain['quoteMeta'].apply(lambda x: any(q['swapperName'] != '0x' and q['quoteReceived'] == True for q in x))].index\n",
    "\n",
    "## Now use the original DataFrame to find only rows where 'swapperName' is '0x' and that meet the condition above\n",
    "quote_meta_data_with_other_swappers = pd.json_normalize(df_evm_same_chain.loc[indices_with_other_swappers].explode('quoteMeta').reset_index().quoteMeta)\n",
    "\n",
    "## Group by swapper name and calculate the percentage where 'differenceFromBestQuoteDecimalPercentage' equals 0 (meaning it is the best swapper) for each group\n",
    "percentage_best_by_swapper = quote_meta_data_with_other_swappers.groupby('swapperName').apply(\n",
    "    lambda group: (group['differenceFromBestQuoteDecimalPercentage'] == 0).mean() * 100\n",
    ").sort_values(ascending=False)\n",
    "\n",
    "## Concatenate the results into a string\n",
    "output_swappers = \", \".join([\n",
    "    f\"{swapper}: {percentage:.2f}%\" for swapper, percentage in percentage_best_by_swapper.items()\n",
    "])\n",
    "\n",
    "output_swappers\n",
    "\n",
    "# Create a DataFrame from the sorted percentages\n",
    "swapper_table = pd.DataFrame(percentage_best_by_swapper_sorted, columns=['Percentage'])\n",
    "swapper_table['Percentage'] = swapper_table['Percentage'].apply(lambda x: f\"{x:.2f}%\")\n",
    "\n",
    "# Optionally print to console\n",
    "print(swapper_table)\n"
   ]
  },
  {
   "cell_type": "code",
   "execution_count": null,
   "id": "b81e7218-a0ae-4ee2-8eae-34b074a1d322",
   "metadata": {},
   "outputs": [],
   "source": []
  }
 ],
 "metadata": {
  "kernelspec": {
   "display_name": "Python 3 (ipykernel)",
   "language": "python",
   "name": "python3"
  },
  "language_info": {
   "codemirror_mode": {
    "name": "ipython",
    "version": 3
   },
   "file_extension": ".py",
   "mimetype": "text/x-python",
   "name": "python",
   "nbconvert_exporter": "python",
   "pygments_lexer": "ipython3",
   "version": "3.11.4"
  }
 },
 "nbformat": 4,
 "nbformat_minor": 5
}
