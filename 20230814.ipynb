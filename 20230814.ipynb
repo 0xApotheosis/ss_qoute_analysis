{
 "cells": [
  {
   "cell_type": "code",
   "execution_count": 30,
   "id": "b804ace3-fefb-4031-8163-4157266d2cce",
   "metadata": {},
   "outputs": [
    {
     "name": "stdout",
     "output_type": "stream",
     "text": [
      "<class 'pandas.core.frame.DataFrame'>\n",
      "Index: 351 entries, 30 to 2491\n",
      "Data columns (total 8 columns):\n",
      " #   Column           Non-Null Count  Dtype \n",
      "---  ------           --------------  ----- \n",
      " 0   sellAmountUsd    351 non-null    object\n",
      " 1   sellAssetId      351 non-null    object\n",
      " 2   buyAssetId       351 non-null    object\n",
      " 3   quoteMeta        351 non-null    object\n",
      " 4   version          351 non-null    object\n",
      " 5   distinct_id      351 non-null    object\n",
      " 6   sellAssetPrefix  351 non-null    object\n",
      " 7   buyAssetPrefix   351 non-null    object\n",
      "dtypes: object(8)\n",
      "memory usage: 24.7+ KB\n"
     ]
    }
   ],
   "source": [
    "import numpy as np\n",
    "import json\n",
    "import pandas as pd\n",
    "import matplotlib.pyplot as plt\n",
    "\n",
    "# Ingest data\n",
    "properties_data = []\n",
    "\n",
    "## Read the file line by line\n",
    "with open('MixPanel_export-1691969806891.txt', 'r') as f:\n",
    "    for line in f:\n",
    "        # Load the JSON data from each line\n",
    "        json_line = json.loads(line)\n",
    "        # Add the JSON data to the list\n",
    "        properties_data.append(json_line)\n",
    "\n",
    "df = pd.json_normalize(properties_data)\n",
    "\n",
    "## Select the required columns\n",
    "df = df[['properties.sellAmountUsd', 'properties.sellAssetId', 'properties.buyAssetId', 'properties.quoteMeta', 'properties.version', 'properties.distinct_id']]\n",
    "\n",
    "## Cleanup the nested headers\n",
    "df = df.rename(columns=lambda x: x.replace('properties.', ''))\n",
    "\n",
    "# Use the latest data schema and bug fixes\n",
    "df = df.query('version == \"20230823\"')\n",
    "\n",
    "# Filter duplicate quotes with the same input args from the same user (i.e. polling qoute updates)\n",
    "columns_to_check = ['sellAmountUsd', 'sellAssetId', 'buyAssetId', 'distinct_id']\n",
    "df = df.drop_duplicates(subset=columns_to_check, keep='first')\n",
    "\n",
    "# Handle infinite ratio bug, manifesting as \"1\" in the data, by removing these qoutes\n",
    "# TODO\n",
    "\n",
    "# Create a new DataFrame containing only EVM trades, with filtered rows where sellAssetId and buyAssetId start with eip155\n",
    "df_evm = df.loc[(df['sellAssetId'].str.startswith('eip155')) & (df['buyAssetId'].str.startswith('eip155'))].copy()\n",
    "\n",
    "\n",
    "# Extract prefix before \":\" and compare for sellAssetId and buyAssetId in the new DataFrame\n",
    "df_evm.loc[:, 'sellAssetPrefix'] = df_evm['sellAssetId'].str.split('/').str[0]\n",
    "df_evm.loc[:, 'buyAssetPrefix'] = df_evm['buyAssetId'].str.split('/').str[0]\n",
    "\n",
    "df_evm_same_chain = df_evm[df_evm['sellAssetPrefix'] == df_evm['buyAssetPrefix']]\n",
    "\n",
    "\n",
    "## Log the DF schema as a sanity check\n",
    "df_evm_same_chain.info()"
   ]
  },
  {
   "cell_type": "code",
   "execution_count": 28,
   "id": "b579da36-a899-4ff3-b0af-f76e5e58fab3",
   "metadata": {},
   "outputs": [
    {
     "name": "stdout",
     "output_type": "stream",
     "text": [
      "{\n",
      "    \"sellAmountUsd\": \"0.52100000000000082018\",\n",
      "    \"sellAssetId\": \"eip155:1/slip44:60\",\n",
      "    \"buyAssetId\": \"eip155:1/erc20:0xc770eefad204b5180df6a14ee197d99d808ee52d\",\n",
      "    \"quoteMeta\": [\n",
      "        {\n",
      "            \"differenceFromBestQuoteDecimalPercentage\": 0,\n",
      "            \"quoteReceived\": true,\n",
      "            \"swapperName\": \"LI.FI\"\n",
      "        },\n",
      "        {\n",
      "            \"differenceFromBestQuoteDecimalPercentage\": 1,\n",
      "            \"quoteReceived\": true,\n",
      "            \"swapperName\": \"0x\"\n",
      "        },\n",
      "        {\n",
      "            \"differenceFromBestQuoteDecimalPercentage\": null,\n",
      "            \"quoteReceived\": false,\n",
      "            \"swapperName\": \"1INCH\"\n",
      "        },\n",
      "        {\n",
      "            \"differenceFromBestQuoteDecimalPercentage\": null,\n",
      "            \"quoteReceived\": false,\n",
      "            \"swapperName\": \"CoW Swap\"\n",
      "        },\n",
      "        {\n",
      "            \"differenceFromBestQuoteDecimalPercentage\": null,\n",
      "            \"quoteReceived\": false,\n",
      "            \"swapperName\": \"Osmosis\"\n",
      "        },\n",
      "        {\n",
      "            \"differenceFromBestQuoteDecimalPercentage\": null,\n",
      "            \"quoteReceived\": false,\n",
      "            \"swapperName\": \"THORChain\"\n",
      "        }\n",
      "    ],\n",
      "    \"version\": \"20230823\",\n",
      "    \"sellAssetPrefix\": \"eip155:1\",\n",
      "    \"buyAssetPrefix\": \"eip155:1\"\n",
      "}\n"
     ]
    }
   ],
   "source": [
    "# Log a row for reference\n",
    "\n",
    "# Get the first row of the DataFrame as a dict\n",
    "first_row_dict = df_evm_same_chain.iloc[30].to_dict()\n",
    "\n",
    "# Convert the dict to a formatted JSON string\n",
    "formatted_json = json.dumps(first_row_dict, indent=4)\n",
    "\n",
    "# Print the formatted JSON\n",
    "print(formatted_json)"
   ]
  },
  {
   "cell_type": "code",
   "execution_count": null,
   "id": "30231d88-e947-47af-915e-8860fedfabde",
   "metadata": {},
   "outputs": [],
   "source": []
  }
 ],
 "metadata": {
  "kernelspec": {
   "display_name": "Python 3 (ipykernel)",
   "language": "python",
   "name": "python3"
  },
  "language_info": {
   "codemirror_mode": {
    "name": "ipython",
    "version": 3
   },
   "file_extension": ".py",
   "mimetype": "text/x-python",
   "name": "python",
   "nbconvert_exporter": "python",
   "pygments_lexer": "ipython3",
   "version": "3.11.4"
  }
 },
 "nbformat": 4,
 "nbformat_minor": 5
}
